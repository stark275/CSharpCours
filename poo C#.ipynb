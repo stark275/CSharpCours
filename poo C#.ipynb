{
 "cells": [
  {
   "cell_type": "markdown",
   "metadata": {},
   "source": [
    "En C#, une classe est un modèle ou un plan à partir duquel des objets sont créés. Les objets sont des instances d’une classe. Les classes définissent les propriétés (variables) et les méthodes (fonctions) que leurs objets peuvent utiliser.\n",
    "\n",
    "Par exemple, considérons une classe Voiture. Cette classe peut avoir des propriétés comme marque, couleur et vitesseMaximale, et des méthodes comme accelerer() et freiner()"
   ]
  },
  {
   "cell_type": "code",
   "execution_count": 2,
   "metadata": {
    "dotnet_interactive": {
     "language": "csharp"
    },
    "polyglot_notebook": {
     "kernelName": "csharp"
    }
   },
   "outputs": [],
   "source": [
    "public class Voiture\n",
    "{\n",
    "    public string marque;\n",
    "    public string couleur;\n",
    "    public int vitesseMaximale;\n",
    "\n",
    "    public void accelerer()\n",
    "    {\n",
    "        // code pour accélérer\n",
    "    }\n",
    "\n",
    "    public void freiner()\n",
    "    {\n",
    "        // code pour freiner\n",
    "    }\n",
    "}"
   ]
  },
  {
   "cell_type": "markdown",
   "metadata": {},
   "source": [
    "Un objet est une instance de cette classe. Par exemple, nous pouvons créer un objet maVoiture de la classe Voiture et lui attribuer des valeurs spécifiques."
   ]
  },
  {
   "cell_type": "code",
   "execution_count": 3,
   "metadata": {
    "dotnet_interactive": {
     "language": "csharp"
    },
    "polyglot_notebook": {
     "kernelName": "csharp"
    }
   },
   "outputs": [],
   "source": [
    "Voiture maVoiture = new Voiture();\n",
    "maVoiture.marque = \"Toyota\";\n",
    "maVoiture.couleur = \"Rouge\";\n",
    "maVoiture.vitesseMaximale = 200;\n"
   ]
  },
  {
   "cell_type": "markdown",
   "metadata": {},
   "source": [
    "Dans cet exemple, maVoiture est un objet de la classe Voiture. Nous avons utilisé la classe Voiture comme un modèle pour créer l’objet maVoiture, et nous avons ensuite assigné des valeurs spécifiques aux propriétés de cet objet. Nous pouvons également appeler les méthodes de l’objet, comme maVoiture.accelerer() ou maVoiture.freiner(). Chaque objet créé à partir de la classe Voiture aura ses propres copies de variables et aura accès aux méthodes définies dans la classe.\n",
    "\n",
    "C’est ainsi que les classes et les objets fonctionnent en C#. Les classes agissent comme des plans pour créer des objets, et chaque objet est une instance de sa classe avec ses propres valeurs de propriétés spécifiques"
   ]
  },
  {
   "cell_type": "markdown",
   "metadata": {},
   "source": [
    "## Le Constructeur\n",
    "\n",
    "Un constructeur est une méthode spéciale dans une classe qui est appelée lorsque vous créez une nouvelle instance de cette classe. En C#, le constructeur a le même nom que la classe. Il est généralement utilisé pour initialiser les propriétés de l’objet ou pour effectuer toute configuration de démarrage nécessaire.\n",
    "\n",
    "Dans notre exemple de la classe Voiture, nous pouvons ajouter un constructeur qui prend la marque, la couleur et la vitesse maximale comme paramètres "
   ]
  },
  {
   "cell_type": "code",
   "execution_count": 6,
   "metadata": {
    "dotnet_interactive": {
     "language": "csharp"
    },
    "polyglot_notebook": {
     "kernelName": "csharp"
    }
   },
   "outputs": [],
   "source": [
    "public class Voiture\n",
    "{\n",
    "    public string marque;\n",
    "    public string couleur;\n",
    "    public int vitesseMaximale;\n",
    "\n",
    "    // Constructeur\n",
    "    public Voiture(string marque, string couleur, int vitesseMaximale)\n",
    "    {\n",
    "        this.marque = marque;\n",
    "        this.couleur = couleur;\n",
    "        this.vitesseMaximale = vitesseMaximale;\n",
    "    }\n",
    "\n",
    "    public void accelerer()\n",
    "    {\n",
    "        // code pour accélérer\n",
    "    }\n",
    "\n",
    "    public void freiner()\n",
    "    {\n",
    "        // code pour freiner\n",
    "    }\n",
    "}\n"
   ]
  },
  {
   "cell_type": "markdown",
   "metadata": {},
   "source": [
    "Maintenant, nous pouvons créer une nouvelle voiture en utilisant ce constructeur, comme ceci :"
   ]
  },
  {
   "cell_type": "code",
   "execution_count": 9,
   "metadata": {
    "dotnet_interactive": {
     "language": "csharp"
    },
    "polyglot_notebook": {
     "kernelName": "csharp"
    }
   },
   "outputs": [],
   "source": [
    "Voiture maVoiture = new Voiture(\"Toyota\", \"Rouge\", 200);"
   ]
  },
  {
   "cell_type": "markdown",
   "metadata": {},
   "source": [
    "## Encapsulation\n",
    "\n",
    "L’encapsulation est un concept fondamental de la programmation orientée objet (POO). Elle permet de cacher les détails d’implémentation d’une classe et de contrôler l’accès aux données de l’objet. En C#, nous utilisons des propriétés (un mélange de variables et de méthodes) pour atteindre l’encapsulation.\n",
    "\n",
    "Dans notre exemple de la classe Voiture, nous pouvons encapsuler les variables marque, couleur et vitesseMaximale en utilisant des propriétés. Voici comment cela pourrait être fait :"
   ]
  },
  {
   "cell_type": "code",
   "execution_count": 4,
   "metadata": {
    "dotnet_interactive": {
     "language": "csharp"
    },
    "polyglot_notebook": {
     "kernelName": "csharp"
    }
   },
   "outputs": [],
   "source": [
    "public class Voiture\n",
    "{\n",
    "    private string marque;\n",
    "    private string couleur;\n",
    "    private int vitesseMaximale;\n",
    "\n",
    "    public string Marque\n",
    "    {\n",
    "        get { return marque; }\n",
    "        set { marque = value; }\n",
    "    }\n",
    "\n",
    "    public string Couleur\n",
    "    {\n",
    "        get { return couleur; }\n",
    "        set { couleur = value; }\n",
    "    }\n",
    "\n",
    "    public int VitesseMaximale\n",
    "    {\n",
    "        get { return vitesseMaximale; }\n",
    "        set { vitesseMaximale = value; }\n",
    "    }\n",
    "\n",
    "    public void accelerer()\n",
    "    {\n",
    "        // code pour accélérer\n",
    "    }\n",
    "\n",
    "    public void freiner()\n",
    "    {\n",
    "        // code pour freiner\n",
    "    }\n",
    "}"
   ]
  },
  {
   "cell_type": "markdown",
   "metadata": {},
   "source": [
    "Maintenant, au lieu d’accéder directement aux variables, nous utilisons les propriétés pour obtenir (get) ou définir (set) les valeurs :"
   ]
  },
  {
   "cell_type": "code",
   "execution_count": 5,
   "metadata": {
    "dotnet_interactive": {
     "language": "csharp"
    },
    "polyglot_notebook": {
     "kernelName": "csharp"
    }
   },
   "outputs": [],
   "source": [
    "Voiture maVoiture = new Voiture();\n",
    "maVoiture.Marque = \"Toyota\";\n",
    "maVoiture.Couleur = \"Rouge\";\n",
    "maVoiture.VitesseMaximale = 200;\n"
   ]
  },
  {
   "cell_type": "markdown",
   "metadata": {},
   "source": [
    "Cela nous permet de contrôler l’accès aux variables de la classe. Par exemple, nous pourrions ajouter une logique supplémentaire dans le set pour ne pas permettre des valeurs non valides. C’est l’essence de l’encapsulation : cacher les détails internes de l’objet et ne permettre l’accès qu’à travers une interface contrôlée"
   ]
  },
  {
   "cell_type": "markdown",
   "metadata": {},
   "source": [
    "### Raccourcis pour les getters et les setters"
   ]
  },
  {
   "cell_type": "code",
   "execution_count": 8,
   "metadata": {
    "dotnet_interactive": {
     "language": "csharp"
    },
    "polyglot_notebook": {
     "kernelName": "csharp"
    }
   },
   "outputs": [],
   "source": [
    "public class Voiture\n",
    "{\n",
    "\n",
    "     // Propriétés automatiques\n",
    "    public string Marque { get; private set; }\n",
    "    public string Couleur { get; set; }\n",
    "    public int VitesseMaximale { get; set; }\n",
    "    \n",
    "    // Constructeur\n",
    "    public Voiture(string marque, string couleur, int vitesseMaximale)\n",
    "    {\n",
    "        Marque = marque;\n",
    "        Couleur = couleur;\n",
    "        VitesseMaximale = vitesseMaximale;\n",
    "    }\n",
    "\n",
    "    public void accelerer()\n",
    "    {\n",
    "        // code pour accélérer\n",
    "    }\n",
    "\n",
    "    public void freiner()\n",
    "    {\n",
    "        // code pour freiner\n",
    "    }\n",
    "}"
   ]
  },
  {
   "cell_type": "code",
   "execution_count": null,
   "metadata": {
    "dotnet_interactive": {
     "language": "csharp"
    },
    "polyglot_notebook": {
     "kernelName": "csharp"
    }
   },
   "outputs": [],
   "source": [
    "Voiture maVoiture = new Voiture(\"Toyota\", \"Rouge\", 200);\n",
    "\n",
    "maVoiture.Couleur = \"Bleue\";\n",
    "maVoiture.VitesseMaximale = 200;\n",
    "\n",
    "maVoiture"
   ]
  },
  {
   "cell_type": "markdown",
   "metadata": {},
   "source": [
    "## L'heritage\n",
    "\n",
    "L’héritage est un autre concept fondamental de la programmation orientée objet (POO). Il permet à une classe d’hériter des membres (propriétés et méthodes) d’une autre classe. En C#, nous utilisons le mot-clé :, suivi du nom de la classe parente, pour indiquer l’héritage.\n",
    "\n",
    "Par exemple, considérons une classe VoitureElectrique qui hérite de la classe Voiture. La classe VoitureElectrique a toutes les propriétés et méthodes de la classe Voiture, mais elle peut également ajouter de nouvelles propriétés ou méthodes, ou redéfinir les méthodes de la classe parente (c’est ce qu’on appelle la surcharge)."
   ]
  },
  {
   "cell_type": "code",
   "execution_count": 9,
   "metadata": {
    "dotnet_interactive": {
     "language": "csharp"
    },
    "polyglot_notebook": {
     "kernelName": "csharp"
    }
   },
   "outputs": [],
   "source": [
    "public class VoitureElectrique : Voiture\n",
    "{\n",
    "    public int autonomie;\n",
    "\n",
    "    // Constructeur\n",
    "    public VoitureElectrique(string marque, string couleur, int vitesseMaximale, int autonomie)\n",
    "        : base(marque, couleur, vitesseMaximale) // Appel du constructeur de la classe parente\n",
    "    {\n",
    "        this.autonomie = autonomie;\n",
    "    }\n",
    "\n",
    "    public void recharger()\n",
    "    {\n",
    "        // code pour recharger la voiture électrique\n",
    "    }\n",
    "}\n"
   ]
  },
  {
   "cell_type": "markdown",
   "metadata": {},
   "source": [
    "Dans cet exemple, VoitureElectrique est une sous-classe de Voiture, et Voiture est la super-classe de VoitureElectrique. Nous avons ajouté une nouvelle propriété autonomie et une nouvelle méthode recharger() à la classe VoitureElectrique. Nous avons également défini un constructeur pour VoitureElectrique qui appelle le constructeur de la classe parente Voiture avec le mot-clé base.\n",
    "\n",
    "Maintenant, nous pouvons créer une nouvelle voiture électrique comme ceci :"
   ]
  },
  {
   "cell_type": "code",
   "execution_count": 10,
   "metadata": {
    "dotnet_interactive": {
     "language": "csharp"
    },
    "polyglot_notebook": {
     "kernelName": "csharp"
    }
   },
   "outputs": [],
   "source": [
    "VoitureElectrique maVoitureElectrique = new VoitureElectrique(\"Tesla\", \"Noir\", 250, 500);\n"
   ]
  },
  {
   "cell_type": "markdown",
   "metadata": {},
   "source": [
    "Dans cet exemple, “Tesla” est passé au paramètre marque du constructeur, “Noir” est passé à couleur, 250 est passé à vitesseMaximale, et 500 est passé à autonomie. Le constructeur initialise alors les propriétés de l’objet avec ces valeurs. Notez que maVoitureElectrique a accès à toutes les méthodes de Voiture, ainsi qu’à la méthode recharger() de VoitureElectrique."
   ]
  },
  {
   "cell_type": "markdown",
   "metadata": {},
   "source": [
    "## Le Polymorphisme\n",
    "\n",
    "Le polymorphisme est un autre concept fondamental de la programmation orientée objet (POO). Il permet à une méthode d’avoir plusieurs comportements différents en fonction de l’objet qui l’appelle. En C#, il existe deux types principaux de polymorphisme : le polymorphisme statique (ou surcharge) et le polymorphisme dynamique (ou substitution).\n",
    "\n",
    "1. Polymorphisme statique (Surcharge) : Il se produit lorsque deux ou plusieurs méthodes dans la même classe ont le même nom mais des listes de paramètres différentes."
   ]
  },
  {
   "cell_type": "code",
   "execution_count": 13,
   "metadata": {
    "dotnet_interactive": {
     "language": "csharp"
    },
    "polyglot_notebook": {
     "kernelName": "csharp"
    }
   },
   "outputs": [
    {
     "name": "stdout",
     "output_type": "stream",
     "text": [
      "La voiture accelere de 5\n",
      "La voiture accelere de 10 pendant 5 secondes\n"
     ]
    }
   ],
   "source": [
    "public class Voiture\n",
    "{\n",
    "    // Surcharge de la méthode accelerer\n",
    "    public void accelerer(int quantite)\n",
    "    {\n",
    "        Console.WriteLine($\"La voiture accelere de {quantite}\");\n",
    "    }\n",
    "\n",
    "    public void accelerer(int quantite, int temps)\n",
    "    {\n",
    "         Console.WriteLine($\"La voiture accelere de {quantite} pendant {temps} secondes\");\n",
    "\n",
    "    }\n",
    "}\n",
    "\n",
    "Voiture voiture = new Voiture();\n",
    "voiture.accelerer(5);\n",
    "voiture.accelerer(10,5)\n",
    "\n"
   ]
  },
  {
   "cell_type": "markdown",
   "metadata": {},
   "source": [
    "2. Polymorphisme dynamique (Substitution) : Il se produit lorsqu’une classe enfant hérite d’une classe parente et redéfinit une de ses méthodes. Lorsque cette méthode est appelée sur un objet de la classe enfant, c’est la version redéfinie de la méthode qui est utilisée.\n"
   ]
  },
  {
   "cell_type": "code",
   "execution_count": 18,
   "metadata": {
    "dotnet_interactive": {
     "language": "csharp"
    },
    "polyglot_notebook": {
     "kernelName": "csharp"
    }
   },
   "outputs": [
    {
     "name": "stdout",
     "output_type": "stream",
     "text": [
      "La voiture accelere de 6 grace à une batterie électrique\n",
      "La voiture accelere de 10 pendant 5 secondes\n"
     ]
    }
   ],
   "source": [
    "// Voiture classique\n",
    "public class Voiture\n",
    "{\n",
    "    // Surcharge de la méthode accelerer\n",
    "    public virtual void accelerer(int quantite)\n",
    "    {\n",
    "        Console.WriteLine($\"La voiture accelere de {quantite}\");\n",
    "    }\n",
    "\n",
    "    public virtual void accelerer(int quantite, int temps)\n",
    "    {\n",
    "         Console.WriteLine($\"La voiture accelere de {quantite} pendant {temps} secondes\");\n",
    "\n",
    "    }\n",
    "}\n",
    "\n",
    "//Voiture électrique\n",
    "public class VoitureElectrique : Voiture\n",
    "{\n",
    "    // Substitution de la méthode accelerer\n",
    "    public override void accelerer(int quantite)\n",
    "    {\n",
    "       Console.WriteLine($\"La voiture accelere de {quantite} grace à une batterie électrique\");\n",
    "    }\n",
    "}\n",
    "\n",
    "Voiture voiture = new VoitureElectrique();\n",
    "voiture.accelerer(6);\n",
    "voiture.accelerer(10,5)\n"
   ]
  },
  {
   "cell_type": "markdown",
   "metadata": {},
   "source": [
    "## Les Classes abstraites\n",
    "\n",
    "Une classe abstraite est un type spécial de classe en C# qui ne peut pas être instanciée. Elle sert de base pour d’autres classes. Une classe abstraite peut contenir des méthodes abstraites (qui n’ont pas de corps) ainsi que des méthodes non abstraites (qui ont un corps).\n",
    "\n",
    "L’idée est qu’une classe abstraite définit un contrat que les classes dérivées doivent respecter. Si une classe dérive d’une classe abstraite, elle doit implémenter toutes les méthodes abstraites de la classe parente.\n",
    "\n",
    "Par exemple, considérons une classe abstraite Voiture :"
   ]
  },
  {
   "cell_type": "code",
   "execution_count": 21,
   "metadata": {
    "dotnet_interactive": {
     "language": "csharp"
    },
    "polyglot_notebook": {
     "kernelName": "csharp"
    }
   },
   "outputs": [],
   "source": [
    "public abstract class Voiture\n",
    "{\n",
    "    public string Marque { get; set; }\n",
    "\n",
    "    public abstract void accelerer();\n",
    "\n",
    "    public void freiner()\n",
    "    {\n",
    "        Console.WriteLine($\"La voiture freine\");\n",
    "\n",
    "    }\n",
    "}"
   ]
  },
  {
   "cell_type": "markdown",
   "metadata": {},
   "source": [
    "Dans cet exemple, Voiture est une classe abstraite avec une propriété Marque, une méthode abstraite accelerer et une méthode non abstraite freiner. Toute classe qui hérite de Voiture doit fournir une implémentation pour la méthode accelerer.\n",
    "\n",
    "Voici comment une classe VoitureElectrique pourrait hériter de Voiture et implémenter la méthode accelerer :"
   ]
  },
  {
   "cell_type": "code",
   "execution_count": 23,
   "metadata": {
    "dotnet_interactive": {
     "language": "csharp"
    },
    "polyglot_notebook": {
     "kernelName": "csharp"
    }
   },
   "outputs": [
    {
     "name": "stdout",
     "output_type": "stream",
     "text": [
      "La voiture accelere ...\n",
      "La voiture freine\n"
     ]
    }
   ],
   "source": [
    "public class VoitureElectrique : Voiture\n",
    "{\n",
    "    public override void accelerer()\n",
    "    {\n",
    "        Console.WriteLine($\"La voiture accelere ...\");\n",
    "\n",
    "    }\n",
    "}\n",
    "\n",
    "VoitureElectrique voiture = new VoitureElectrique();\n",
    "voiture.accelerer();\n",
    "voiture.freiner()"
   ]
  },
  {
   "cell_type": "markdown",
   "metadata": {},
   "source": [
    "Dans cet exemple, VoitureElectrique est une sous-classe de Voiture et fournit une implémentation pour la méthode accelerer. Notez que VoitureElectrique a également accès à la méthode freiner de Voiture."
   ]
  },
  {
   "cell_type": "markdown",
   "metadata": {},
   "source": [
    "### Classe abstraites vs Interface\n",
    "\n",
    "Il est important de noter que les interfaces et les classes abstraites en C# sont similaires en ce sens qu’elles peuvent toutes deux être utilisées pour définir des contrats pour les classes. Cependant, une classe ne peut hériter que d’une seule classe abstraite, tandis qu’elle peut implémenter plusieurs interfaces. De plus, une classe abstraite peut contenir une implémentation de méthode par défaut, tandis qu’une interface ne peut pas. C’est pourquoi les interfaces sont souvent utilisées pour définir des “capacités” que les classes peuvent avoir, tandis que les classes abstraites sont utilisées pour définir des “types” d’objets"
   ]
  },
  {
   "cell_type": "code",
   "execution_count": null,
   "metadata": {
    "dotnet_interactive": {
     "language": "csharp"
    },
    "polyglot_notebook": {
     "kernelName": "csharp"
    }
   },
   "outputs": [],
   "source": [
    "// Définition de l'interface IVehicule\n",
    "public interface IVehicule\n",
    "{\n",
    "    void demarrer();\n",
    "}\n",
    "\n",
    "// Définition de l'interface IVoiture\n",
    "public interface IVoiture : IVehicule\n",
    "{\n",
    "    void accelerer();\n",
    "}\n",
    "\n",
    "// Définition de la classe abstraite Voiture\n",
    "public abstract class Voiture\n",
    "{\n",
    "    public abstract string Marque { get; set; }\n",
    "\n",
    "    public void freiner()\n",
    "    {\n",
    "       Console.WriteLine($\"La voiture freine\");\n",
    "    }\n",
    "}\n",
    "\n",
    "// Définition de la classe VoitureElectrique qui implémente l'interface IVoiture et hérite de la classe abstraite Voiture\n",
    "public class VoitureElectrique : Voiture, IVoiture\n",
    "{\n",
    "    \n",
    "    public override string Marque { get; set; }\n",
    "  \n",
    "    public void accelerer()\n",
    "    {\n",
    "        Console.WriteLine($\"La voiture électrique accelere sur batterie\");\n",
    "    }\n",
    "\n",
    "    public void demarrer()\n",
    "    {\n",
    "        Console.WriteLine($\"La voiture électrique demarre\");\n",
    "\n",
    "    }\n",
    "}\n",
    "\n",
    "// Définition de la classe Moto qui implémente l'interface IVehicule\n",
    "public class Moto : IVehicule\n",
    "{\n",
    "    public string Marque { get; set; }\n",
    "\n",
    "    public void demarrer()\n",
    "    {\n",
    "        Console.WriteLine($\"La Moto démarre\");\n",
    "\n",
    "    }\n",
    "}\n"
   ]
  },
  {
   "cell_type": "markdown",
   "metadata": {},
   "source": [
    "Dans cet exemple, IVehicule est une interface qui définit une capacité (demarrer) que tous les véhicules peuvent avoir. IVoiture est une interface qui hérite de IVehicule et ajoute une capacité supplémentaire (accelerer) spécifique aux voitures. Voiture est une classe abstraite qui définit un type d’objet avec une propriété (Marque) et une méthode (freiner). VoitureElectrique est une classe qui implémente l’interface IVoiture et hérite de la classe abstraite Voiture. Elle fournit une implémentation pour les méthodes accelerer et demarrer de l’interface IVoiture et pour la propriété Marque de la classe abstraite Voiture. Moto est une classe qui implémente l’interface IVehicule. Elle fournit une implémentation pour la méthode demarrer de l’interface IVehicule et a une propriété Marque"
   ]
  }
 ],
 "metadata": {
  "kernelspec": {
   "display_name": ".NET (C#)",
   "language": "C#",
   "name": ".net-csharp"
  },
  "language_info": {
   "name": "polyglot-notebook"
  },
  "polyglot_notebook": {
   "kernelInfo": {
    "defaultKernelName": "csharp",
    "items": [
     {
      "aliases": [],
      "languageName": "csharp",
      "name": "csharp"
     }
    ]
   }
  }
 },
 "nbformat": 4,
 "nbformat_minor": 2
}
